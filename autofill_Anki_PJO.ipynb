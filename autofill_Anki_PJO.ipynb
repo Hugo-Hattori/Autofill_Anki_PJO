{
 "cells": [
  {
   "cell_type": "code",
   "execution_count": 1,
   "id": "3ad61237",
   "metadata": {},
   "outputs": [],
   "source": [
    "from selenium import webdriver\n",
    "from selenium.webdriver.chrome.service import Service\n",
    "from webdriver_manager.chrome import ChromeDriverManager\n",
    "from selenium.webdriver.common.keys import Keys\n",
    "import time\n",
    "\n",
    "servico = Service(ChromeDriverManager().install())\n",
    "navegador = webdriver.Chrome(service=servico)"
   ]
  },
  {
   "cell_type": "code",
   "execution_count": 2,
   "id": "83b1746d",
   "metadata": {},
   "outputs": [],
   "source": [
    "#login no site\n",
    "navegador.get(r'https://portal.programajaponesonline.com.br/login/')"
   ]
  },
  {
   "cell_type": "code",
   "execution_count": 3,
   "id": "830308b5",
   "metadata": {},
   "outputs": [],
   "source": [
    "from selenium.webdriver.common.by import By\n",
    "\n",
    "navegador.find_element(By.ID, 'user_login').send_keys('usuario')\n",
    "navegador.find_element(By.ID, 'user_pass').send_keys('senha')\n",
    "navegador.find_element(By.ID, 'wp-submit').click()\n",
    "time.sleep(5)"
   ]
  },
  {
   "cell_type": "code",
   "execution_count": 8,
   "id": "d141c366",
   "metadata": {},
   "outputs": [],
   "source": [
    "#copiando o frent do card\n",
    "\n",
    "link_licao = r'https://portal.programajaponesonline.com.br/cp/t02/afirmacoes-com-da/'\n",
    "\n",
    "navegador.get(link_licao)\n",
    "time.sleep(5)\n",
    "navegador.find_element(By.XPATH, '//*[@id=\"primary\"]/div/div[3]/div[1]/div[2]/span[1]').click()\n",
    "time.sleep(5)\n",
    "navegador.find_element(By.XPATH, '//*[@id=\"primary\"]/div/div[3]/div[1]/div[3]/span[1]').click()\n",
    "time.sleep(5)\n",
    "navegador.find_element(By.TAG_NAME, 'body').send_keys(Keys.CONTROL + \"T\")\n",
    "time.sleep(5)"
   ]
  },
  {
   "cell_type": "code",
   "execution_count": 9,
   "id": "3eba93c8",
   "metadata": {},
   "outputs": [
    {
     "ename": "NameError",
     "evalue": "name 'TAB' is not defined",
     "output_type": "error",
     "traceback": [
      "\u001b[1;31m---------------------------------------------------------------------------\u001b[0m",
      "\u001b[1;31mNameError\u001b[0m                                 Traceback (most recent call last)",
      "Cell \u001b[1;32mIn[9], line 14\u001b[0m\n\u001b[0;32m     12\u001b[0m navegador\u001b[38;5;241m.\u001b[39mfind_element(By\u001b[38;5;241m.\u001b[39mID, \u001b[38;5;124m'\u001b[39m\u001b[38;5;124mf0\u001b[39m\u001b[38;5;124m'\u001b[39m)\u001b[38;5;241m.\u001b[39msend_keys(Keys\u001b[38;5;241m.\u001b[39mCONTROL \u001b[38;5;241m+\u001b[39m \u001b[38;5;124m\"\u001b[39m\u001b[38;5;124mV\u001b[39m\u001b[38;5;124m\"\u001b[39m)\n\u001b[0;32m     13\u001b[0m time\u001b[38;5;241m.\u001b[39msleep(\u001b[38;5;241m5\u001b[39m)\n\u001b[1;32m---> 14\u001b[0m navegador\u001b[38;5;241m.\u001b[39mfind_element(By\u001b[38;5;241m.\u001b[39mTAG_NAME, \u001b[38;5;124m'\u001b[39m\u001b[38;5;124mbody\u001b[39m\u001b[38;5;124m'\u001b[39m)\u001b[38;5;241m.\u001b[39msend_keys(Keys\u001b[38;5;241m.\u001b[39mCONTROL \u001b[38;5;241m+\u001b[39m \u001b[43mTAB\u001b[49m)\n\u001b[0;32m     15\u001b[0m time\u001b[38;5;241m.\u001b[39msleep(\u001b[38;5;241m5\u001b[39m)\n",
      "\u001b[1;31mNameError\u001b[0m: name 'TAB' is not defined"
     ]
    }
   ],
   "source": [
    "#login no ankiweb\n",
    "navegador.get(r'https://ankiweb.net/account/login')\n",
    "\n",
    "navegador.find_element(By.ID, 'email').send_keys('hugohatori275@gmail.com')\n",
    "navegador.find_element(By.ID, 'password').send_keys('wasureta01032022')\n",
    "navegador.find_element(By.XPATH, '//*[@id=\"form\"]/div[3]/input').click()\n",
    "time.sleep(5)\n",
    "navegador.get(r'https://ankiuser.net/edit/')\n",
    "time.sleep(5)\n",
    "\n",
    "#criando a frente do card\n",
    "navegador.find_element(By.ID, 'f0').send_keys(Keys.CONTROL + \"V\")\n",
    "time.sleep(5)\n",
    "navegador.find_element(By.TAG_NAME, 'body').send_keys(Keys.CONTROL + TAB)\n",
    "time.sleep(5)"
   ]
  },
  {
   "cell_type": "code",
   "execution_count": null,
   "id": "a10dc392",
   "metadata": {},
   "outputs": [],
   "source": [
    "#copiando o back do card\n",
    "navegador.find_element(By.XPATH, '//*[@id=\"primary\"]/div/div[3]/div[1]/div[2]/span[1]').click()\n",
    "time.sleep(5)\n",
    "navegador.find_element(By.XPATH, '//*[@id=\"primary\"]/div/div[3]/div[1]/div[3]/span[2]').click()"
   ]
  },
  {
   "cell_type": "code",
   "execution_count": null,
   "id": "40d8f82a",
   "metadata": {},
   "outputs": [],
   "source": [
    "#criando o back do card\n",
    "navegador.find_element(By.TAG_NAME, 'body').send_keys(Keys.CONTROL + TAB)\n",
    "time.sleep(5)\n",
    "navegador.find_element(By.ID, 'f1').send_keys(Keys.CONTROL + \"V\")\n",
    "time.sleep(5)"
   ]
  },
  {
   "cell_type": "code",
   "execution_count": null,
   "id": "6d50cd1c",
   "metadata": {},
   "outputs": [],
   "source": []
  },
  {
   "cell_type": "code",
   "execution_count": 5,
   "id": "78cca8cb",
   "metadata": {},
   "outputs": [
    {
     "name": "stdout",
     "output_type": "stream",
     "text": [
      "É um cachorro.\n",
      "\n",
      "inu da.\n",
      "\n",
      "いぬ (inu) = cachorro\n",
      "だ (da) = é\n"
     ]
    }
   ],
   "source": [
    "texto = navegador.find_element(By.XPATH, '//*[@id=\"primary\"]/div/div[3]/div[18]/div[3]/div[3]').text\n",
    "print(texto)"
   ]
  }
 ],
 "metadata": {
  "kernelspec": {
   "display_name": "Python 3 (ipykernel)",
   "language": "python",
   "name": "python3"
  },
  "language_info": {
   "codemirror_mode": {
    "name": "ipython",
    "version": 3
   },
   "file_extension": ".py",
   "mimetype": "text/x-python",
   "name": "python",
   "nbconvert_exporter": "python",
   "pygments_lexer": "ipython3",
   "version": "3.10.9"
  }
 },
 "nbformat": 4,
 "nbformat_minor": 5
}

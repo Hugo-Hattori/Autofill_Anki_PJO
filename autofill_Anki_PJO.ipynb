{
 "cells": [
  {
   "cell_type": "code",
   "execution_count": null,
   "id": "3ad61237",
   "metadata": {},
   "outputs": [],
   "source": [
    "from selenium import webdriver\n",
    "from selenium.webdriver.chrome.service import Service\n",
    "from webdriver_manager.chrome import ChromeDriverManager\n",
    "import time\n",
    "from selenium.webdriver.common.by import By\n",
    "import minha_senha\n",
    "\n",
    "link_licao = input('Insira o link da aula: ')\n",
    "\n",
    "tipo_de_licao = input('''Digite 1 se essa lição deve ser inserido no deck de Escrita Japonesa\n",
    "Digite 2 se essa lição deve ser inserido no deck de Frases em Japonês: ''')\n",
    "\n",
    "site_lento = input('O site está lento? y/n ').casefold()\n",
    "\n",
    "tempo_espera = 15 if site_lento =='y' else 5\n",
    "\n",
    "servico = Service(ChromeDriverManager().install())\n",
    "navegador = webdriver.Chrome(service=servico)"
   ]
  },
  {
   "cell_type": "code",
   "execution_count": null,
   "id": "830308b5",
   "metadata": {},
   "outputs": [],
   "source": [
    "#login no site da PJO\n",
    "navegador.get(r'https://portal.programajaponesonline.com.br/login/')\n",
    "time.sleep(tempo_espera)\n",
    "navegador.find_element(By.ID, 'user_login').send_keys(minha_senha.login_jpo)\n",
    "navegador.find_element(By.ID, 'user_pass').send_keys(minha_senha.senha_jpo)\n",
    "navegador.find_element(By.ID, 'wp-submit').click()\n",
    "time.sleep(tempo_espera)"
   ]
  },
  {
   "cell_type": "code",
   "execution_count": null,
   "id": "d141c366",
   "metadata": {},
   "outputs": [],
   "source": [
    "#entra na lição\n",
    "navegador.get(link_licao)\n",
    "time.sleep(tempo_espera)\n",
    "\n",
    "lista_botao = navegador.find_elements(By.CLASS_NAME, 'expand-card')\n",
    "fronts = navegador.find_elements(By.CLASS_NAME, 'card-front')\n",
    "backs = navegador.find_elements(By.CLASS_NAME, 'card-back')\n",
    "\n",
    "#expandindo todas as caixas de texto\n",
    "for botao in lista_botao:\n",
    "    botao.click() \n",
    "    time.sleep(3)\n",
    "    \n",
    "#pega as frentes dos cards\n",
    "lista_frentes = [frente.text for frente in fronts]   \n",
    "\n",
    "#pega as traseiras dos cards\n",
    "lista_tras = [tras.text for tras in backs]"
   ]
  },
  {
   "cell_type": "code",
   "execution_count": null,
   "id": "a97b1a78",
   "metadata": {
    "scrolled": true
   },
   "outputs": [],
   "source": [
    "#verificando as frentes e as traseiras do cards\n",
    "print(lista_frentes)\n",
    "print(lista_tras)\n",
    "\n",
    "#caso haja algum item vazio, interrompe o código\n",
    "for item in lista_frentes:\n",
    "    if item == '':\n",
    "        exit()\n",
    "        time.sleep(5)"
   ]
  },
  {
   "cell_type": "code",
   "execution_count": null,
   "id": "1209017a",
   "metadata": {},
   "outputs": [],
   "source": [
    "#verificando visualmente qual a quantidade de frases que serão adicionadas no Anki\n",
    "print(len(lista_frentes))\n",
    "print(len(lista_tras))"
   ]
  },
  {
   "cell_type": "code",
   "execution_count": null,
   "id": "3eba93c8",
   "metadata": {},
   "outputs": [],
   "source": [
    "#login no ankiweb\n",
    "navegador.get(r'https://ankiweb.net/account/login')\n",
    "time.sleep(tempo_espera)\n",
    "navegador.find_element(By.ID, 'email').send_keys(minha_senha.login_anki)\n",
    "navegador.find_element(By.ID, 'password').send_keys(minha_senha.senha_anki)\n",
    "navegador.find_element(By.XPATH, '//*[@id=\"form\"]/div[3]/input').click()\n",
    "time.sleep(tempo_espera)\n",
    "navegador.get(r'https://ankiuser.net/edit/')\n",
    "time.sleep(tempo_espera)"
   ]
  },
  {
   "cell_type": "code",
   "execution_count": null,
   "id": "a10dc392",
   "metadata": {},
   "outputs": [],
   "source": [
    "if tipo_de_licao == '1':\n",
    "    #opção Escrita Japonesa\n",
    "    navegador.find_element(By.ID, 'deck').send_keys('Escrita em Japonês')\n",
    "\n",
    "elif tipo_de_licao == '2':\n",
    "    #opção Frases em Japonês\n",
    "    navegador.find_element(By.ID, 'deck').send_keys('Frases em Japonês')\n",
    "\n",
    "else:\n",
    "    #deck de testes\n",
    "    navegador.find_element(By.ID, 'deck').send_keys('testes')\n",
    "\n",
    "time.sleep(3)"
   ]
  },
  {
   "cell_type": "code",
   "execution_count": null,
   "id": "6d50cd1c",
   "metadata": {},
   "outputs": [],
   "source": [
    "#criando o card\n",
    "for i, botao in enumerate(lista_botao):\n",
    "    navegador.find_element(By.ID, 'f0').send_keys(lista_frentes[i])\n",
    "    navegador.find_element(By.ID, 'f1').send_keys(lista_tras[i])\n",
    "    time.sleep(3)\n",
    "    navegador.find_element(By.XPATH, '/html/body/main/p/button').click()\n",
    "    time.sleep(3)"
   ]
  },
  {
   "cell_type": "code",
   "execution_count": null,
   "id": "ec1f8f91",
   "metadata": {},
   "outputs": [],
   "source": [
    "#fechando o navegador\n",
    "navegador.close()"
   ]
  }
 ],
 "metadata": {
  "kernelspec": {
   "display_name": "Python 3 (ipykernel)",
   "language": "python",
   "name": "python3"
  },
  "language_info": {
   "codemirror_mode": {
    "name": "ipython",
    "version": 3
   },
   "file_extension": ".py",
   "mimetype": "text/x-python",
   "name": "python",
   "nbconvert_exporter": "python",
   "pygments_lexer": "ipython3",
   "version": "3.10.9"
  }
 },
 "nbformat": 4,
 "nbformat_minor": 5
}

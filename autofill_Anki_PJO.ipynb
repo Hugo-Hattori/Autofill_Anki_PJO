{
 "cells": [
  {
   "cell_type": "code",
   "execution_count": 1,
   "id": "3ad61237",
   "metadata": {},
   "outputs": [
    {
     "name": "stdout",
     "output_type": "stream",
     "text": [
      "Insira o link da aula: https://portal.programajaponesonline.com.br/np/t03/comparacoes-com-you/\n",
      "Digite 1 se essa lição deve ser inserido no deck de Escrita Japonesa\n",
      "Digite 2 se essa lição deve ser inserido no deck de Frases em Japonês: 2\n",
      "O site está lento? y/n n\n"
     ]
    },
    {
     "name": "stderr",
     "output_type": "stream",
     "text": [
      "[WDM] - Downloading: 100%|████████████████████████████████████████████████████████| 6.30M/6.30M [00:00<00:00, 31.4MB/s]\n"
     ]
    }
   ],
   "source": [
    "from selenium import webdriver\n",
    "from selenium.webdriver.chrome.service import Service\n",
    "from webdriver_manager.chrome import ChromeDriverManager\n",
    "import time\n",
    "from selenium.webdriver.common.by import By\n",
    "import minha_senha\n",
    "\n",
    "link_licao = input('Insira o link da aula: ')\n",
    "\n",
    "tipo_de_licao = input('''Digite 1 se essa lição deve ser inserido no deck de Escrita Japonesa\n",
    "Digite 2 se essa lição deve ser inserido no deck de Frases em Japonês: ''')\n",
    "\n",
    "site_lento = input('O site está lento? y/n ').casefold()\n",
    "\n",
    "tempo_espera = 15 if site_lento =='y' else 5\n",
    "\n",
    "servico = Service(ChromeDriverManager().install())\n",
    "navegador = webdriver.Chrome(service=servico)"
   ]
  },
  {
   "cell_type": "code",
   "execution_count": 2,
   "id": "830308b5",
   "metadata": {},
   "outputs": [],
   "source": [
    "#login no site da PJO\n",
    "navegador.get(r'https://portal.programajaponesonline.com.br/login/')\n",
    "time.sleep(tempo_espera)\n",
    "navegador.find_element(By.ID, 'user_login').send_keys(minha_senha.login_jpo)\n",
    "navegador.find_element(By.ID, 'user_pass').send_keys(minha_senha.senha_jpo)\n",
    "navegador.find_element(By.ID, 'wp-submit').click()\n",
    "time.sleep(tempo_espera)"
   ]
  },
  {
   "cell_type": "code",
   "execution_count": 3,
   "id": "d141c366",
   "metadata": {},
   "outputs": [],
   "source": [
    "#entra na lição\n",
    "navegador.get(link_licao)\n",
    "time.sleep(tempo_espera)\n",
    "\n",
    "lista_botao = navegador.find_elements(By.CLASS_NAME, 'expand-card')\n",
    "fronts = navegador.find_elements(By.CLASS_NAME, 'card-front')\n",
    "backs = navegador.find_elements(By.CLASS_NAME, 'card-back')\n",
    "\n",
    "#expandindo todas as caixas de texto\n",
    "for botao in lista_botao:\n",
    "    botao.click() \n",
    "    time.sleep(3)\n",
    "    \n",
    "#pega as frentes dos cards\n",
    "lista_frentes = [frente.text for frente in fronts]   \n",
    "\n",
    "#pega as traseiras dos cards\n",
    "lista_tras = [tras.text for tras in backs]"
   ]
  },
  {
   "cell_type": "code",
   "execution_count": 4,
   "id": "a97b1a78",
   "metadata": {
    "scrolled": true
   },
   "outputs": [
    {
     "name": "stdout",
     "output_type": "stream",
     "text": [
      "['鳥[とり]のように 空[そら]を 飛[と]んでみたい。', '京[きょう] 都[と]のような 古[ふる]い 街[まち]に 憧[あこが]れます。', 'チョコレートやケーキのような 甘[あま]い 物[もの]が 好[す]きです。', '君[きみ]のように 自[じ] 由[ゆう]に 生[い]きてみたい。', 'この 山[やま] 道[みち]はまるで 迷[めい] 路[ろ]のようだ。', '彼[かれ]はあたかも 自[じ] 分[ぶん]の 事[こと]のように 心[しん] 配[ぱい]してくれた。', '彼[かの] 女[じょ]は 猫[ねこ]のように 気[き]まぐれな 人[ひと]だ。', 'ジャマイカ 産[さん]なのに、ブラジル 産[さん]コーヒーのような 味[あじ]わいだ。', '宝[たから]くじに 当[あ]たったなんて、まるで 夢[ゆめ]のようだ。', '今[きょ] 日[う]のテストのように、 明[あし] 日[た]のテストも 簡[かん] 単[たん]だったらいいな。', '彼[かれ]はいつも 怒[おこ]っているような 顔[かお]をしているよね。', '私[わたし]は 田[た] 中[なか]さんのように 日[に] 本[ほん] 語[ご]が 話[はな]せるようになりたいです。']\n",
      "['Quero experimentar voar pelos céus como se fosse um pássaro.\\n\\n鳥 (とり) = pássaro\\nように = como\\n空を飛ぶ (そらをとぶ) = voar pelo céu', 'Admiro cidades antigas como Kyoto.\\n\\n京都 (きょうと) = Kyoto\\nような = como\\n古い (ふるい) = antigo\\n街 (まち) = cidade\\n憧れます (あこがれます) = admirar', 'Gosto de coisas doces como chocolate e bolo.\\n\\nチョコレート = chocolate\\nケーキ = bolo\\nような = como\\n甘い物 (あまいもの) = coisas doces\\n好き (すき) = gostar', 'Quero tentar viver livremente como você.\\n\\n君 (きみ) = você\\nように= como\\n自由に (じゆうに) = livremente\\n生きる (いきる) = viver', 'Esta rota pela montanha é como se fosse um labirinto.\\n\\nこの = este\\n山道 (やまみち) = rota pela montanha\\nまるで = como se fosse\\n迷路 (めいろ) = labirinto\\nよう = como', 'Ele se preocupou como se fosse algo dele.\\n\\n彼 (かれ) = ele\\nあたかも = como se fosse\\n自分 (じぶん) = dele mesmo\\n事 (こと) = coisa, algo\\nように = como\\n心配します (しんぱいします) = se preocupar', 'Ela é inconstante como um gato.\\n\\n彼女 (かのじょ) = ela\\n猫 (ねこ) = gato\\nように = como\\n気まぐれ (きまぐれ) = inconstante\\n人 (ひと) = pessoa', 'Apesar de ser produção jamaicana, tem um sabor como se fosse café de produção brasileira.\\n\\nジャマイカ産 (ジャマイカさん) = produção da Jamaica\\nのに = apesar\\nブラジル産 (ブラジルさん) = produção do Brasil\\nコーヒー = café\\nような = como se\\n味わい (あじわい) = sabor, gosto', 'Essa coisa de acertar na loteria é como se fosse um sonho.\\n\\n宝くじ (たからくじ) = loteria\\n当たる (あたる) = acertar, ganhar\\nまるで = como se fosse\\n夢 (ゆめ) = sonho\\nよう = como se', 'Que bom seria se a prova de amanhã também fosse fácil como a de hoje.\\n\\n今日 (きょう) = hoje\\nテスト = teste, prova\\nように = como se\\n明日 (あした) = amanhã\\nも = também\\n簡単 (かんたん) = fácil, simples\\nだったら = se for\\nいい = bom', 'Ele sempre faz uma cara como se estivesse bravo.\\n\\n彼 (かれ) = ele\\nいつも = sempre\\n怒る (おこる) = se irritar, ficar bravo\\nような = como se\\n顔をする (かおをする) = fazer cara de', 'Quero conseguir falar japonês bem como a Tanaka.\\n\\n私 (わたし) = eu\\n田中さん (たなかさん) = Tanaka-san\\nように = como\\n日本語 (にほんご) = idioma japonês\\n話せる (はなせる) = conseguir falar\\nようになる = passar a ser capaz de']\n"
     ]
    }
   ],
   "source": [
    "#verificando as frentes e as traseiras do cards\n",
    "print(lista_frentes)\n",
    "print(lista_tras)\n",
    "\n",
    "#caso haja algum item vazio, interrompe o código\n",
    "for item in lista_frentes:\n",
    "    if item == '':\n",
    "        exit()\n",
    "        time.sleep(5)"
   ]
  },
  {
   "cell_type": "code",
   "execution_count": 5,
   "id": "1209017a",
   "metadata": {},
   "outputs": [
    {
     "name": "stdout",
     "output_type": "stream",
     "text": [
      "12\n",
      "12\n"
     ]
    }
   ],
   "source": [
    "#verificando visualmente qual a quantidade de frases que serão adicionadas no Anki\n",
    "print(len(lista_frentes))\n",
    "print(len(lista_tras))"
   ]
  },
  {
   "cell_type": "code",
   "execution_count": 6,
   "id": "3eba93c8",
   "metadata": {},
   "outputs": [],
   "source": [
    "#login no ankiweb\n",
    "navegador.get(r'https://ankiweb.net/account/login')\n",
    "time.sleep(tempo_espera)\n",
    "navegador.find_element(By.ID, 'email').send_keys(minha_senha.login_anki)\n",
    "navegador.find_element(By.ID, 'password').send_keys(minha_senha.senha_anki)\n",
    "navegador.find_element(By.XPATH, '//*[@id=\"form\"]/div[3]/input').click()\n",
    "time.sleep(tempo_espera)\n",
    "navegador.get(r'https://ankiuser.net/edit/')\n",
    "time.sleep(tempo_espera)"
   ]
  },
  {
   "cell_type": "code",
   "execution_count": 7,
   "id": "a10dc392",
   "metadata": {},
   "outputs": [],
   "source": [
    "if tipo_de_licao == '1':\n",
    "    #opção Escrita Japonesa\n",
    "    navegador.find_element(By.ID, 'deck').send_keys('Escrita em Japonês')\n",
    "\n",
    "elif tipo_de_licao == '2':\n",
    "    #opção Frases em Japonês\n",
    "    navegador.find_element(By.ID, 'deck').send_keys('Frases em Japonês')\n",
    "\n",
    "else:\n",
    "    #deck de testes\n",
    "    navegador.find_element(By.ID, 'deck').send_keys('testes')\n",
    "\n",
    "time.sleep(3)"
   ]
  },
  {
   "cell_type": "code",
   "execution_count": 8,
   "id": "6d50cd1c",
   "metadata": {},
   "outputs": [],
   "source": [
    "#criando o card\n",
    "for i, botao in enumerate(lista_botao):\n",
    "    navegador.find_element(By.ID, 'f0').send_keys(lista_frentes[i])\n",
    "    navegador.find_element(By.ID, 'f1').send_keys(lista_tras[i])\n",
    "    time.sleep(3)\n",
    "    navegador.find_element(By.XPATH, '/html/body/main/p/button').click()\n",
    "    time.sleep(3)"
   ]
  },
  {
   "cell_type": "code",
   "execution_count": 9,
   "id": "ec1f8f91",
   "metadata": {},
   "outputs": [],
   "source": [
    "#fechando o navegador\n",
    "navegador.close()"
   ]
  }
 ],
 "metadata": {
  "kernelspec": {
   "display_name": "Python 3 (ipykernel)",
   "language": "python",
   "name": "python3"
  },
  "language_info": {
   "codemirror_mode": {
    "name": "ipython",
    "version": 3
   },
   "file_extension": ".py",
   "mimetype": "text/x-python",
   "name": "python",
   "nbconvert_exporter": "python",
   "pygments_lexer": "ipython3",
   "version": "3.10.9"
  }
 },
 "nbformat": 4,
 "nbformat_minor": 5
}

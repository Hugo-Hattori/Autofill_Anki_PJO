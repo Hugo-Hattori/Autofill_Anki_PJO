{
 "cells": [
  {
   "cell_type": "code",
   "execution_count": 7,
   "id": "148e1d5b",
   "metadata": {},
   "outputs": [
    {
     "name": "stdout",
     "output_type": "stream",
     "text": [
      "Insira o link da aula: https://portal.programajaponesonline.com.br/np/t08/expressando-condicao-com-baai/\n",
      "Digite 1 se essa lição deve ser inserido no deck de Escrita Japonesa\n",
      "Digite 2 se essa lição deve ser inserido no deck de Frases em Japonês: 3\n"
     ]
    }
   ],
   "source": [
    "from selenium import webdriver\n",
    "from selenium.webdriver.chrome.service import Service\n",
    "from selenium.webdriver.chrome.options import Options\n",
    "from webdriver_manager.chrome import ChromeDriverManager\n",
    "from selenium.webdriver.common.keys import Keys\n",
    "import time\n",
    "from selenium.webdriver.common.by import By\n",
    "import infos\n",
    "from tkinter import *\n",
    "from tkinter import messagebox\n",
    "\n",
    "\n",
    "link_licao = input('Insira o link da aula: ')\n",
    "\n",
    "tipo_de_licao = input('''Digite 1 se essa lição deve ser inserido no deck de Escrita Japonesa\n",
    "Digite 2 se essa lição deve ser inserido no deck de Frases em Japonês: ''')\n",
    "\n",
    "servico = Service()\n",
    "opcoes = Options()\n",
    "opcoes.add_argument(\"--start-maximized\")\n",
    "navegador = webdriver.Chrome(service=servico, options=opcoes)"
   ]
  },
  {
   "cell_type": "code",
   "execution_count": 8,
   "id": "433b4311",
   "metadata": {},
   "outputs": [],
   "source": [
    "def esperar_carregar(elemento):\n",
    "    while len(navegador.find_elements(By.CLASS_NAME, elemento)) < 1:\n",
    "        time.sleep(1)\n",
    "    time.sleep(2)"
   ]
  },
  {
   "cell_type": "code",
   "execution_count": 9,
   "id": "830308b5",
   "metadata": {},
   "outputs": [],
   "source": [
    "#login no site da PJO\n",
    "navegador.get(r'https://portal.programajaponesonline.com.br/login/')\n",
    "esperar_carregar('input')\n",
    "navegador.find_element(By.ID, 'user_login').send_keys(infos.login_jpo)\n",
    "navegador.find_element(By.ID, 'user_pass').send_keys(infos.senha_jpo)\n",
    "navegador.find_element(By.ID, 'wp-submit').click()\n",
    "esperar_carregar('menu-item')"
   ]
  },
  {
   "cell_type": "code",
   "execution_count": 10,
   "id": "d141c366",
   "metadata": {},
   "outputs": [],
   "source": [
    "#entra na lição\n",
    "navegador.get(link_licao)\n",
    "esperar_carregar('single-box-content')\n",
    "\n",
    "lista_botao = navegador.find_elements(By.CLASS_NAME, 'expand-card')\n",
    "fronts = navegador.find_elements(By.CLASS_NAME, 'card-front')\n",
    "backs = navegador.find_elements(By.CLASS_NAME, 'card-back')\n",
    "\n",
    "#expandindo todas as caixas de texto\n",
    "for botao in lista_botao:\n",
    "    botao.click() \n",
    "    time.sleep(3)\n",
    "    \n",
    "#pega as frentes dos cards\n",
    "lista_frentes = [frente.text for frente in fronts]   \n",
    "\n",
    "#pega as traseiras dos cards\n",
    "lista_tras = [tras.text for tras in backs]"
   ]
  },
  {
   "cell_type": "code",
   "execution_count": 11,
   "id": "a97b1a78",
   "metadata": {
    "scrolled": true
   },
   "outputs": [
    {
     "name": "stdout",
     "output_type": "stream",
     "text": [
      "['波[なみ]が 高[たか]い 場[ば] 合[あい]は、 海[うみ]に 入[はい]らないでください。', '雨[あめ]が 降[ふ]った 場[ば] 合[あい]、 運[うん] 動[どう] 会[かい]は 中[ちゅう] 止[し]になります。', '最[さい] 悪[あく]の 場[ば] 合[あい]、 失[しっ] 敗[ぱい]する 可[か] 能[のう] 性[せい]があります。', '洗[せん] 濯[たく] 機[き]が 故[こ] 障[しょう]した 場[ば] 合[あい]、どこに 連[れん] 絡[らく]したらいいんだろうか？', 'テストの 点[てん]が 良[よ]くなかった 場[ば] 合[あい]、 再[さい] 度[ど]テストを 受[う]けなければならない。', '高[こう] 速[そく] 道[どう] 路[ろ]が 混[こ]んでいる 場[ば] 合[あい]は、 一[いっ] 般[ぱん] 道[どう]を 使[つか]った 方[ほう]が 早[はや]く 目[もく] 的[てき] 地[ち]に 着[つ]きますよ。']\n",
      "['No caso das ondas serem altas, não entre no mar.\\n\\n波 (なみ) = onda\\n高い (たかい) = alta\\n場合 (ばあい) = no caso de\\n海 (うみ) = mar\\n入る (はいる) = entrar', 'No caso de chover, o torneio esportivo será interrompido.\\n\\n雨が降る (あめがふる) = chover\\n場合 (ばあい) = no caso de\\n運動会 (うんどうかい) = torneio esportivo\\n中止 (ちゅうし) = interrupção\\nなります = se tornar', 'No pior dos casos, existe a possibilidade de falhar.\\n\\n最悪 (さいあく) = pior\\n場合 (ばあい) = casos\\n失敗する (しっぱいする) = falhar\\n可能性があります (かのうせいがあります) = existe a possibilidade de', 'No caso da máquina de lavar roupas quebrar, onde será que é bom entrar em contato?\\n\\n洗濯機 (せんたくき) = máquina de lavar\\n故障します (こしょうします) = quebrar, estragar\\n場合 (ばあい) = no caso de\\nどこ = onde\\n連絡します (れんらくします) = entrar em contato', 'No caso da pontuação da prova não ser boa, é preciso fazer a prova novamente.\\n\\nテスト = prova\\n点 (てん) = pontuação\\n良い (よい) = bom\\n場合 (ばあい) = no caso de\\n再度 (さいど) = novamente, mais uma vez\\n受ける (うける) = fazer a prova', 'No caso da via expressa estar congestionada, usar a via comum é mais rápido para chegar no ponto de destino.\\n\\n高速道路 (こうそくどうろ) = via expressa\\n混む (こむ) = congestionar\\n場合 (ばあい) = no caso de\\n一般道 (いっぱんどう) = via comum, rua comum\\n使う (つかう) = usar\\n方が早く (ほうがはやく) = é mais rápido\\n目的地 (もくてきち) = ponto de destino\\n着きます (つきます) = chegar']\n"
     ]
    }
   ],
   "source": [
    "#verificando as frentes e as traseiras do cards\n",
    "print(lista_frentes)\n",
    "print(lista_tras)\n",
    "\n",
    "#caso haja algum item vazio, interrompe o código\n",
    "for item in lista_frentes:\n",
    "    if item == '':\n",
    "        navegador.close()"
   ]
  },
  {
   "cell_type": "code",
   "execution_count": 12,
   "id": "1209017a",
   "metadata": {},
   "outputs": [
    {
     "name": "stdout",
     "output_type": "stream",
     "text": [
      "6\n",
      "6\n"
     ]
    }
   ],
   "source": [
    "#verificando visualmente qual a quantidade de frases que serão adicionadas no Anki\n",
    "print(len(lista_frentes))\n",
    "print(len(lista_tras))"
   ]
  },
  {
   "cell_type": "code",
   "execution_count": 13,
   "id": "3eba93c8",
   "metadata": {},
   "outputs": [],
   "source": [
    "#login no ankiweb\n",
    "navegador.get(r'https://ankiweb.net/account/login')\n",
    "esperar_carregar('form-control')\n",
    "campos = navegador.find_elements(By.CLASS_NAME, 'form-control')\n",
    "campos[0].send_keys(infos.login_anki)\n",
    "campos[1].send_keys(infos.senha_anki)\n",
    "navegador.find_element(By.XPATH, '/html/body/div/main/form/div[3]/button').click()\n",
    "esperar_carregar('btn-outline-secondary')\n",
    "navegador.get(r'https://ankiuser.net/edit/')\n",
    "esperar_carregar('form-group')"
   ]
  },
  {
   "cell_type": "code",
   "execution_count": 14,
   "id": "a10dc392",
   "metadata": {},
   "outputs": [],
   "source": [
    "if tipo_de_licao == '1':\n",
    "    #opção Escrita Japonesa\n",
    "    navegador.find_element(By.XPATH, '/html/body/div/main/div[2]/div/div/div[2]/input').send_keys(infos.decks[0], Keys.TAB)\n",
    "\n",
    "elif tipo_de_licao == '2':\n",
    "    #opção Frases em Japonês\n",
    "    navegador.find_element(By.XPATH, '/html/body/div/main/div[2]/div/div/div[2]/input').send_keys(infos.decks[1], Keys.TAB)\n",
    "\n",
    "else:\n",
    "    #deck de testes\n",
    "    navegador.find_element(By.XPATH, '/html/body/div/main/div[2]/div/div/div[2]/input').send_keys(infos.decks[2], Keys.TAB)\n",
    "\n",
    "time.sleep(3)"
   ]
  },
  {
   "cell_type": "code",
   "execution_count": 15,
   "id": "a0660bbf",
   "metadata": {},
   "outputs": [],
   "source": [
    "#criando o card\n",
    "for i, botao in enumerate(lista_botao):\n",
    "    try:\n",
    "        campos = navegador.find_elements(By.CLASS_NAME, 'form-control')\n",
    "        campos[0].send_keys(lista_frentes[i])\n",
    "        campos[1].send_keys(lista_tras[i])\n",
    "        time.sleep(3)\n",
    "        navegador.find_element(By.XPATH, '/html/body/div/main/form/button').click()\n",
    "        time.sleep(3)\n",
    "    except:\n",
    "        navegador.find_element(By.XPATH, '/html/body/main/form/button').send_keys(Keys.END)\n",
    "        time.sleep(3)\n",
    "        navegador.find_element(By.XPATH, '/html/body/div/main/form/button').click()\n",
    "        time.sleep(3)"
   ]
  },
  {
   "cell_type": "code",
   "execution_count": 16,
   "id": "ec1f8f91",
   "metadata": {},
   "outputs": [],
   "source": [
    "#fechando o navegador\n",
    "navegador.close()\n",
    "janela = Tk()\n",
    "messagebox.showinfo('Programa concluído com sucesso. Os seus cards foram criados!.')\n",
    "janela.destroy()"
   ]
  }
 ],
 "metadata": {
  "kernelspec": {
   "display_name": "Python 3 (ipykernel)",
   "language": "python",
   "name": "python3"
  },
  "language_info": {
   "codemirror_mode": {
    "name": "ipython",
    "version": 3
   },
   "file_extension": ".py",
   "mimetype": "text/x-python",
   "name": "python",
   "nbconvert_exporter": "python",
   "pygments_lexer": "ipython3",
   "version": "3.10.11"
  }
 },
 "nbformat": 4,
 "nbformat_minor": 5
}

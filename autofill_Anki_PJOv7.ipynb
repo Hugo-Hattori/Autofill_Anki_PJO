{
 "cells": [
  {
   "cell_type": "code",
   "execution_count": 1,
   "id": "3ad61237",
   "metadata": {},
   "outputs": [
    {
     "name": "stdout",
     "output_type": "stream",
     "text": [
      "Insira o link da aula: https://portal.programajaponesonline.com.br/np/t11/somente-com-ばかり/\n",
      "Digite 1 se essa lição deve ser inserido no deck de Escrita Japonesa\n",
      "Digite 2 se essa lição deve ser inserido no deck de Frases em Japonês: 2\n",
      "O site está lento? y/n n\n"
     ]
    },
    {
     "name": "stderr",
     "output_type": "stream",
     "text": [
      "[WDM] - Downloading: 100%|████████████████████████████████████████████████████████| 6.30M/6.30M [00:00<00:00, 44.5MB/s]\n"
     ]
    }
   ],
   "source": [
    "from selenium import webdriver\n",
    "from selenium.webdriver.chrome.service import Service\n",
    "from selenium.webdriver.chrome.options import Options\n",
    "from webdriver_manager.chrome import ChromeDriverManager\n",
    "from selenium.webdriver.common.keys import Keys\n",
    "import time\n",
    "from selenium.webdriver.common.by import By\n",
    "import minha_senha\n",
    "\n",
    "link_licao = input('Insira o link da aula: ')\n",
    "\n",
    "tipo_de_licao = input('''Digite 1 se essa lição deve ser inserido no deck de Escrita Japonesa\n",
    "Digite 2 se essa lição deve ser inserido no deck de Frases em Japonês: ''')\n",
    "\n",
    "site_lento = input('O site está lento? y/n ').casefold()\n",
    "\n",
    "tempo_espera = 15 if site_lento =='y' else 5\n",
    "\n",
    "# servico = Service(ChromeDriverManager().install())\n",
    "servico = Service(ChromeDriverManager(version='114.0.5735.90').install())\n",
    "opcoes = Options()\n",
    "opcoes.add_argument(\"--start-maximized\")\n",
    "navegador = webdriver.Chrome(service=servico, options=opcoes)"
   ]
  },
  {
   "cell_type": "code",
   "execution_count": 2,
   "id": "830308b5",
   "metadata": {},
   "outputs": [],
   "source": [
    "#login no site da PJO\n",
    "navegador.get(r'https://portal.programajaponesonline.com.br/login/')\n",
    "time.sleep(tempo_espera)\n",
    "navegador.find_element(By.ID, 'user_login').send_keys(minha_senha.login_jpo)\n",
    "navegador.find_element(By.ID, 'user_pass').send_keys(minha_senha.senha_jpo)\n",
    "navegador.find_element(By.ID, 'wp-submit').click()\n",
    "time.sleep(tempo_espera)"
   ]
  },
  {
   "cell_type": "code",
   "execution_count": 3,
   "id": "d141c366",
   "metadata": {},
   "outputs": [],
   "source": [
    "#entra na lição\n",
    "navegador.get(link_licao)\n",
    "time.sleep(tempo_espera)\n",
    "\n",
    "lista_botao = navegador.find_elements(By.CLASS_NAME, 'expand-card')\n",
    "fronts = navegador.find_elements(By.CLASS_NAME, 'card-front')\n",
    "backs = navegador.find_elements(By.CLASS_NAME, 'card-back')\n",
    "\n",
    "#expandindo todas as caixas de texto\n",
    "for botao in lista_botao:\n",
    "    botao.click() \n",
    "    time.sleep(3)\n",
    "    \n",
    "#pega as frentes dos cards\n",
    "lista_frentes = [frente.text for frente in fronts]   \n",
    "\n",
    "#pega as traseiras dos cards\n",
    "lista_tras = [tras.text for tras in backs]"
   ]
  },
  {
   "cell_type": "code",
   "execution_count": 4,
   "id": "a97b1a78",
   "metadata": {
    "scrolled": true
   },
   "outputs": [
    {
     "name": "stdout",
     "output_type": "stream",
     "text": [
      "['ビールばかり 飲[の]んでいると、 太[ふと]るらしいですよ。', 'うちの 子[こ]は、 時[じ] 間[かん]さえあればビデオゲームばかりしている。', 'お 肉[にく]ばかり 食[た]べないで、 野[や] 菜[さい]も 食[た]べなさい。', 'あのカップルはデート 中[ちゅう]も 携[けい] 帯[たい]ばかり 見[み]ている。', 'あの 人[ひと]はいつも 嘘[うそ]ばかり 言[い]ってるから、 全[ぜん] 然[ぜん] 信[しん] 用[よう]できないよ。', 'うちの 両[りょう] 親[しん]は、 弟[おとうと]にばかりおもちゃを 買[か]ってあげて、 僕[ぼく]には 買[か]ってくれない。']\n",
      "['Parece que se apenas beber cerveja, vai engordar.\\n\\nビール = cerveja\\nばかり = apenas\\n飲む (のむ) = beber, tomar\\n太る (ふとる) = engordar\\nらしい = parece que', 'Meu filho, mesmo quando tem tempo, só fica jogando videogame.\\n\\nうちの = meu\\n子 (こ) = filho\\n時間 (じかん) = tempo\\nさえ = mesmo\\nある = haver, existir\\nビデオゲーム = videogame\\nばかり = apenas', 'Não fique comendo só carne, coma vegetais também.\\n\\nお肉 (おにく) = carne\\nばかり = apenas\\n食べる (たべる) = comer\\n野菜 (やさい) = vegetais\\nも = também', 'Aquele casal, mesmo durante um encontro, só ficam vendo o celular.\\n\\nあの = aquele\\nカップル = casal\\nデート中 (デートちゅう) = no meio de um encontro\\nも = até mesmo\\n携帯 (けいたい) = celular\\nばかり = apenas\\n見る (みる) = ver', 'Como aquela pessoa só fica falando mentiras sempre, não consigo confiar nem um pouco.\\n\\nあの = aquela\\n人 (ひと) = pessoa\\nいつも = sempre\\n嘘 (うそ) = mentira\\nばかり = apenas\\n言う (いう) = dizer\\nから = como, já que\\n全然 (ぜんぜん) = nem um pouco, nada\\n信用 (しんよう) = confiar\\nできる = conseguir', 'Meus pais compram brinquedos só para meu irmão mais novo, não compram pra mim.\\n\\nうちの = meu, minha\\n両親 (りょうしん) = pais\\n弟 (おとうと) = irmão mais novo\\nばかり = somente\\nおもちゃ = brinquedos\\n買う (かう) = comprar\\n僕 (ぼく) = eu']\n"
     ]
    }
   ],
   "source": [
    "#verificando as frentes e as traseiras do cards\n",
    "print(lista_frentes)\n",
    "print(lista_tras)\n",
    "\n",
    "#caso haja algum item vazio, interrompe o código\n",
    "for item in lista_frentes:\n",
    "    if item == '':\n",
    "        navegador.close()"
   ]
  },
  {
   "cell_type": "code",
   "execution_count": 5,
   "id": "1209017a",
   "metadata": {},
   "outputs": [
    {
     "name": "stdout",
     "output_type": "stream",
     "text": [
      "6\n",
      "6\n"
     ]
    }
   ],
   "source": [
    "#verificando visualmente qual a quantidade de frases que serão adicionadas no Anki\n",
    "print(len(lista_frentes))\n",
    "print(len(lista_tras))"
   ]
  },
  {
   "cell_type": "code",
   "execution_count": 6,
   "id": "3eba93c8",
   "metadata": {},
   "outputs": [],
   "source": [
    "#login no ankiweb\n",
    "navegador.get(r'https://ankiweb.net/account/login')\n",
    "time.sleep(tempo_espera)\n",
    "campos = navegador.find_elements(By.CLASS_NAME, 'form-control')\n",
    "campos[0].send_keys(minha_senha.login_anki)\n",
    "campos[1].send_keys(minha_senha.senha_anki)\n",
    "navegador.find_element(By.XPATH, '/html/body/div/main/form/div[3]/button').click()\n",
    "time.sleep(tempo_espera)\n",
    "navegador.get(r'https://ankiuser.net/edit/')\n",
    "time.sleep(tempo_espera)"
   ]
  },
  {
   "cell_type": "code",
   "execution_count": 7,
   "id": "a10dc392",
   "metadata": {},
   "outputs": [],
   "source": [
    "if tipo_de_licao == '1':\n",
    "    #opção Escrita Japonesa\n",
    "    navegador.find_element(By.XPATH, '/html/body/div/main/div[2]/div/div/div[2]/input').send_keys('Escrita em Japonês', Keys.TAB)\n",
    "\n",
    "elif tipo_de_licao == '2':\n",
    "    #opção Frases em Japonês\n",
    "    navegador.find_element(By.XPATH, '/html/body/div/main/div[2]/div/div/div[2]/input').send_keys('Frases em Japonês', Keys.TAB)\n",
    "\n",
    "else:\n",
    "    #deck de testes\n",
    "    navegador.find_element(By.XPATH, '/html/body/div/main/div[2]/div/div/div[2]/input').send_keys('testes', Keys.TAB)\n",
    "\n",
    "time.sleep(3)"
   ]
  },
  {
   "cell_type": "code",
   "execution_count": null,
   "id": "a0660bbf",
   "metadata": {},
   "outputs": [],
   "source": [
    "#criando o card\n",
    "for i, botao in enumerate(lista_botao):\n",
    "    try:\n",
    "        campos = navegador.find_elements(By.CLASS_NAME, 'form-control')\n",
    "        campos[0].send_keys(lista_frentes[i])\n",
    "        campos[1].send_keys(lista_tras[i])\n",
    "        time.sleep(3)\n",
    "        navegador.find_element(By.XPATH, '/html/body/div/main/form/button').click()\n",
    "        time.sleep(3)\n",
    "    except:\n",
    "        navegador.find_element(By.XPATH, '/html/body/main/form/button').send_keys(Keys.END)\n",
    "        time.sleep(3)\n",
    "        navegador.find_element(By.XPATH, '/html/body/div/main/form/button').click()\n",
    "        time.sleep(3)"
   ]
  },
  {
   "cell_type": "code",
   "execution_count": null,
   "id": "ec1f8f91",
   "metadata": {},
   "outputs": [],
   "source": [
    "#fechando o navegador\n",
    "navegador.close()"
   ]
  }
 ],
 "metadata": {
  "kernelspec": {
   "display_name": "Python 3 (ipykernel)",
   "language": "python",
   "name": "python3"
  },
  "language_info": {
   "codemirror_mode": {
    "name": "ipython",
    "version": 3
   },
   "file_extension": ".py",
   "mimetype": "text/x-python",
   "name": "python",
   "nbconvert_exporter": "python",
   "pygments_lexer": "ipython3",
   "version": "3.10.11"
  }
 },
 "nbformat": 4,
 "nbformat_minor": 5
}
